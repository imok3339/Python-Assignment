{
 "cells": [
  {
   "cell_type": "code",
   "execution_count": 30,
   "metadata": {},
   "outputs": [
    {
     "name": "stdout",
     "output_type": "stream",
     "text": [
      "Enter your Calculus marks:77\n",
      "Enter your Pak.Studies marks:74\n",
      "Enter your Urdu marks:84\n",
      "Enter your Oop marks:89\n",
      "Enter your Python marks:90\n",
      "Total marks: 414\n",
      "Percentage: 82.8\n",
      "You have got A-one Grade\n"
     ]
    }
   ],
   "source": [
    "#Write a program which takes 5 inputs from user for different subject’s\n",
    "#marks, total it and generate mark sheet using grades ?\n",
    "cal=input(\"Enter your Calculus marks:\")\n",
    "cal=int(cal)\n",
    "pst=input(\"Enter your Pak.Studies marks:\")\n",
    "pst=int(pst)\n",
    "urdu=input(\"Enter your Urdu marks:\")\n",
    "urdu=int(urdu)\n",
    "oop=input(\"Enter your Oop marks:\")\n",
    "oop=int(oop)\n",
    "python=input(\"Enter your Python marks:\")\n",
    "python=int(python)\n",
    "obt=cal+pst+urdu+oop+python\n",
    "print(\"Total marks: \"+str(obt))\n",
    "per=(obt/500)*100\n",
    "print(\"Percentage: \"+str(per))\n",
    "if per>=80:\n",
    "    print(\"You have got A-one Grade\")\n",
    "elif per>=70 and per <=79:\n",
    "    print(\"You have got A Grade\")\n",
    "elif per>=60 and per <=69:\n",
    "    print(\"You have got B Grade\")\n",
    "elif per>=50 and per <=59:\n",
    "    print(\"You have got C Grade\")\n",
    "elif per>=50 and per <=49:\n",
    "    print(\"You have got E Grade\")\n",
    "else:\n",
    "    print(\"Fail\")"
   ]
  },
  {
   "cell_type": "code",
   "execution_count": 28,
   "metadata": {},
   "outputs": [
    {
     "name": "stdout",
     "output_type": "stream",
     "text": [
      "Enter a number: 12\n",
      "This is an even number.\n"
     ]
    }
   ],
   "source": [
    "# Write a program which take input from user and identify that the given number is even or odd?\n",
    "num = int(input(\"Enter a number: \"))\n",
    "mod = num % 2\n",
    "if mod > 0:\n",
    "    print(\"This is an odd number.\")\n",
    "else:\n",
    "    print(\"This is an even number.\")"
   ]
  },
  {
   "cell_type": "code",
   "execution_count": 31,
   "metadata": {},
   "outputs": [
    {
     "name": "stdout",
     "output_type": "stream",
     "text": [
      "The length of list is:  2\n"
     ]
    }
   ],
   "source": [
    "# Write a program which print the length of the list?\n",
    "a = [\"Hello\",\"Word\"] \n",
    "print(\"The length of list is: \", len(a))"
   ]
  },
  {
   "cell_type": "code",
   "execution_count": 2,
   "metadata": {},
   "outputs": [
    {
     "name": "stdout",
     "output_type": "stream",
     "text": [
      "Sum of elements in given list is : 24\n"
     ]
    }
   ],
   "source": [
    "# Write a Python program to sum all the numeric items in a list?\n",
    "lst = [4,4,6,10]\n",
    "print(\"Sum of elements in given list is :\", sum(lst))"
   ]
  },
  {
   "cell_type": "code",
   "execution_count": 1,
   "metadata": {},
   "outputs": [
    {
     "name": "stdout",
     "output_type": "stream",
     "text": [
      "Largest element is: 85\n"
     ]
    }
   ],
   "source": [
    "# Write a Python program to get the largest number from a numeric list.\n",
    "list1 = [10, 20, 4, 45, 85] \n",
    "print(\"Largest element is:\", max(list1)) "
   ]
  },
  {
   "cell_type": "code",
   "execution_count": 4,
   "metadata": {},
   "outputs": [
    {
     "name": "stdout",
     "output_type": "stream",
     "text": [
      "[1, 1, 2, 3]\n"
     ]
    }
   ],
   "source": [
    "# write a program that prints out all the elements of the list that are less than 5.\n",
    "a = [1, 1, 2, 3, 5, 8, 13, 21, 34, 55, 89]\n",
    "new_list = []\n",
    "\n",
    "for item in a:\n",
    "    if item < 5:\n",
    "        new_list.append(item)\n",
    "print(new_list)"
   ]
  },
  {
   "cell_type": "code",
   "execution_count": null,
   "metadata": {},
   "outputs": [],
   "source": []
  }
 ],
 "metadata": {
  "kernelspec": {
   "display_name": "Python 3",
   "language": "python",
   "name": "python3"
  },
  "language_info": {
   "codemirror_mode": {
    "name": "ipython",
    "version": 3
   },
   "file_extension": ".py",
   "mimetype": "text/x-python",
   "name": "python",
   "nbconvert_exporter": "python",
   "pygments_lexer": "ipython3",
   "version": "3.7.4"
  }
 },
 "nbformat": 4,
 "nbformat_minor": 2
}
